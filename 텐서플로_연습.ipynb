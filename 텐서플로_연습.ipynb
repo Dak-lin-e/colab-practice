{
  "nbformat": 4,
  "nbformat_minor": 0,
  "metadata": {
    "colab": {
      "provenance": [],
      "mount_file_id": "1jAOipIiNUKAVJTs0cD02eRPIqTFZfrhO",
      "authorship_tag": "ABX9TyNpgKJH1qEC4s+qDwQowNRN",
      "include_colab_link": true
    },
    "kernelspec": {
      "name": "python3",
      "display_name": "Python 3"
    },
    "language_info": {
      "name": "python"
    }
  },
  "cells": [
    {
      "cell_type": "markdown",
      "metadata": {
        "id": "view-in-github",
        "colab_type": "text"
      },
      "source": [
        "<a href=\"https://colab.research.google.com/github/Dak-lin-e/colab-practice/blob/main/%ED%85%90%EC%84%9C%ED%94%8C%EB%A1%9C_%EC%97%B0%EC%8A%B5.ipynb\" target=\"_parent\"><img src=\"https://colab.research.google.com/assets/colab-badge.svg\" alt=\"Open In Colab\"/></a>"
      ]
    },
    {
      "cell_type": "code",
      "execution_count": null,
      "metadata": {
        "id": "k8slxAMyMivk"
      },
      "outputs": [],
      "source": [
        "from google.colab import drive\n",
        "deive.mount('/content/drive')"
      ]
    },
    {
      "cell_type": "code",
      "source": [
        "pwd"
      ],
      "metadata": {
        "colab": {
          "base_uri": "https://localhost:8080/",
          "height": 35
        },
        "id": "p93nOn3UOJwc",
        "outputId": "9ad12133-9776-4b3f-d9eb-08aa0ef84459"
      },
      "execution_count": null,
      "outputs": [
        {
          "output_type": "execute_result",
          "data": {
            "text/plain": [
              "'/content'"
            ],
            "application/vnd.google.colaboratory.intrinsic+json": {
              "type": "string"
            }
          },
          "metadata": {},
          "execution_count": 2
        }
      ]
    },
    {
      "cell_type": "code",
      "source": [
        "cd \"/content/drive/MyDrive/Colab Notebooks\""
      ],
      "metadata": {
        "colab": {
          "base_uri": "https://localhost:8080/"
        },
        "id": "HfAACVAiOvrb",
        "outputId": "280c516d-2d39-424b-d5b7-361b54e8b888"
      },
      "execution_count": null,
      "outputs": [
        {
          "output_type": "stream",
          "name": "stdout",
          "text": [
            "/content/drive/MyDrive/Colab Notebooks\n"
          ]
        }
      ]
    },
    {
      "cell_type": "code",
      "source": [
        "!git clone https://github.com/utkuozbulak/pytorch-cnn-visualizations.git"
      ],
      "metadata": {
        "colab": {
          "base_uri": "https://localhost:8080/"
        },
        "id": "LMncLJOSO54t",
        "outputId": "0a4b0c8f-2fc6-40ab-a504-1013fd9233b1"
      },
      "execution_count": null,
      "outputs": [
        {
          "output_type": "stream",
          "name": "stdout",
          "text": [
            "Cloning into 'pytorch-cnn-visualizations'...\n",
            "remote: Enumerating objects: 880, done.\u001b[K\n",
            "remote: Counting objects: 100% (110/110), done.\u001b[K\n",
            "remote: Compressing objects: 100% (74/74), done.\u001b[K\n",
            "remote: Total 880 (delta 45), reused 88 (delta 36), pack-reused 770 (from 1)\u001b[K\n",
            "Receiving objects: 100% (880/880), 7.86 MiB | 12.14 MiB/s, done.\n",
            "Resolving deltas: 100% (433/433), done.\n",
            "Updating files: 100% (116/116), done.\n"
          ]
        }
      ]
    },
    {
      "cell_type": "code",
      "source": [
        "#executing_eagerly 함수를 이용한 실행모드인지 여부를 확인\n",
        "import tensorflow as tf\n",
        "print(tf.executing_eagerly())"
      ],
      "metadata": {
        "colab": {
          "base_uri": "https://localhost:8080/"
        },
        "id": "i4toq1FhSUxT",
        "outputId": "7083d60c-f3e0-4ac6-f53a-75445d54933f"
      },
      "execution_count": null,
      "outputs": [
        {
          "output_type": "stream",
          "name": "stdout",
          "text": [
            "True\n"
          ]
        }
      ]
    },
    {
      "cell_type": "code",
      "source": [
        "a=2\n",
        "b=3\n",
        "c= tf.math.add(a,b)\n",
        "print(c)\n",
        "\n",
        "# c 에 저장되있는 텐서객체로부터 덧셈의 결과값을 출력\n",
        "c.numpy()"
      ],
      "metadata": {
        "colab": {
          "base_uri": "https://localhost:8080/"
        },
        "id": "s9bb7YPcSpmB",
        "outputId": "84d06f0d-c8fe-4384-a170-3e9d60638d7f"
      },
      "execution_count": null,
      "outputs": [
        {
          "output_type": "stream",
          "name": "stdout",
          "text": [
            "tf.Tensor(5, shape=(), dtype=int32)\n"
          ]
        },
        {
          "output_type": "execute_result",
          "data": {
            "text/plain": [
              "5"
            ]
          },
          "metadata": {},
          "execution_count": 9
        }
      ]
    },
    {
      "cell_type": "code",
      "source": [
        "a=tf.constant(1)\n",
        "b=tf.constant(2)\n",
        "print(\"a:\",a)\n",
        "print(\"b:\",b)"
      ],
      "metadata": {
        "colab": {
          "base_uri": "https://localhost:8080/"
        },
        "id": "9SYBJCrsVsw3",
        "outputId": "5546debb-5f1a-4ad9-bf20-fe911c3c2ffd"
      },
      "execution_count": null,
      "outputs": [
        {
          "output_type": "stream",
          "name": "stdout",
          "text": [
            "a: tf.Tensor(1, shape=(), dtype=int32)\n",
            "b: tf.Tensor(2, shape=(), dtype=int32)\n"
          ]
        }
      ]
    },
    {
      "cell_type": "code",
      "source": [
        "# 텐서의 랭크(차수)를 확인\n",
        "print(tf.rank(b))"
      ],
      "metadata": {
        "colab": {
          "base_uri": "https://localhost:8080/"
        },
        "id": "-ud1kfBrP6Eh",
        "outputId": "53afd823-c164-47bc-b1fa-c8eb05095b75"
      },
      "execution_count": null,
      "outputs": [
        {
          "output_type": "stream",
          "name": "stdout",
          "text": [
            "tf.Tensor(0, shape=(), dtype=int32)\n"
          ]
        }
      ]
    },
    {
      "cell_type": "code",
      "source": [
        "# 텐서의 자료형을 변환하고 싶을때는 cast함수를 활용\n",
        "a= tf.cast(a,tf.float32)\n",
        "b= tf.cast(b,tf.float32)\n",
        "print(a.dtype)\n",
        "print(b.dtype)"
      ],
      "metadata": {
        "colab": {
          "base_uri": "https://localhost:8080/"
        },
        "id": "S0RbxsoEQMNg",
        "outputId": "50613b9b-8fa0-49ba-fb29-2d1f051f95d4"
      },
      "execution_count": null,
      "outputs": [
        {
          "output_type": "stream",
          "name": "stdout",
          "text": [
            "<dtype: 'float32'>\n",
            "<dtype: 'float32'>\n"
          ]
        }
      ]
    },
    {
      "cell_type": "code",
      "source": [
        "# math수학함수를 이용해서 텐서계산\n",
        "c=tf.math.add(a,b)\n",
        "print(\"result:\",c)\n",
        "print(\"rank:\",tf.rank(c))\n",
        "\n",
        "d=tf.math.subtract(a,b)\n",
        "print(\"result:\",d)\n",
        "print(\"rank:\",tf.rank(d))\n",
        "\n",
        "e=tf.math.multiply(a,b)\n",
        "print(\"result:\",e)\n",
        "print(\"rank:\",tf.rank(e))\n",
        "\n",
        "f=tf.math.divide(a,b)\n",
        "print(\"result:\",f)\n",
        "print(\"rank:\",tf.rank(f))\n",
        "\n",
        "g=tf.math.mod(a,b)\n",
        "print(\"result:\",g)\n",
        "print(\"rank:\",tf.rank(g))\n",
        "# 몫 계산\n",
        "h=tf.math.floordiv(a,b)\n",
        "print(\"result:\",h)\n",
        "print(\"rank:\",tf.rank(h))"
      ],
      "metadata": {
        "colab": {
          "base_uri": "https://localhost:8080/"
        },
        "id": "2dJcB53xQhWl",
        "outputId": "3d129276-a985-46f8-d805-12f66f06617a"
      },
      "execution_count": null,
      "outputs": [
        {
          "output_type": "stream",
          "name": "stdout",
          "text": [
            "result: tf.Tensor(3.0, shape=(), dtype=float32)\n",
            "rank: tf.Tensor(0, shape=(), dtype=int32)\n",
            "result: tf.Tensor(-1.0, shape=(), dtype=float32)\n",
            "rank: tf.Tensor(0, shape=(), dtype=int32)\n",
            "result: tf.Tensor(2.0, shape=(), dtype=float32)\n",
            "rank: tf.Tensor(0, shape=(), dtype=int32)\n",
            "result: tf.Tensor(0.5, shape=(), dtype=float32)\n",
            "rank: tf.Tensor(0, shape=(), dtype=int32)\n",
            "result: tf.Tensor(1.0, shape=(), dtype=float32)\n",
            "rank: tf.Tensor(0, shape=(), dtype=int32)\n",
            "result: tf.Tensor(0.0, shape=(), dtype=float32)\n",
            "rank: tf.Tensor(0, shape=(), dtype=int32)\n"
          ]
        }
      ]
    },
    {
      "cell_type": "code",
      "source": [
        "import tensorflow as tf\n",
        "import numpy as np\n",
        "# 1차원 배열정의\n",
        "p_list=[10., 20., 30.]\n",
        "num_arr = np.array([10.,10.,10.])\n",
        "\n",
        "# 벡터를 텐서로변환\n",
        "vec1=tf.constant(p_list,dtype=tf.float32)\n",
        "vec2=tf.constant(num_arr,dtype=tf.float32)\n",
        "# 텐서출력\n",
        "print(vec1)\n",
        "print(vec2)\n",
        "\n",
        "print(tf.rank(vec1))\n",
        "print(tf.rank(vec2))"
      ],
      "metadata": {
        "colab": {
          "base_uri": "https://localhost:8080/"
        },
        "id": "du6QnhQZQ_pn",
        "outputId": "3618af5f-d489-4d25-9102-08f0df226e40"
      },
      "execution_count": null,
      "outputs": [
        {
          "output_type": "stream",
          "name": "stdout",
          "text": [
            "tf.Tensor([10. 20. 30.], shape=(3,), dtype=float32)\n",
            "tf.Tensor([10. 10. 10.], shape=(3,), dtype=float32)\n",
            "tf.Tensor(1, shape=(), dtype=int32)\n",
            "tf.Tensor(1, shape=(), dtype=int32)\n"
          ]
        }
      ]
    },
    {
      "cell_type": "code",
      "source": [
        "add1=tf.math.add(vec1,vec2)\n",
        "print(add1)\n",
        "print(tf.rank(add1))\n",
        "\n",
        "sub1=tf.math.subtract(vec1,vec2)\n",
        "print(sub1)\n",
        "print(tf.rank(sub1))\n",
        "\n",
        "mul1=tf.math.multiply(vec1,vec2)\n",
        "print(mul1)\n",
        "print(tf.rank(mul1))\n",
        "\n",
        "div1=tf.math.divide(vec1,vec2)\n",
        "print(div1)\n",
        "print(tf.rank(div1))\n",
        "\n",
        "mod1=tf.math.mod(vec1,vec2)\n",
        "print(mod1)\n",
        "print(tf.rank(mod1))\n",
        "\n",
        "fdiv1=tf.math.floordiv(vec1,vec2)\n",
        "print(fdiv1)\n",
        "print(tf.rank(1))"
      ],
      "metadata": {
        "colab": {
          "base_uri": "https://localhost:8080/"
        },
        "id": "C_of5J8bRATw",
        "outputId": "8d85a1ef-3f7c-4fe0-83c9-7edaeb902c26"
      },
      "execution_count": null,
      "outputs": [
        {
          "output_type": "stream",
          "name": "stdout",
          "text": [
            "tf.Tensor([20. 30. 40.], shape=(3,), dtype=float32)\n",
            "tf.Tensor(1, shape=(), dtype=int32)\n",
            "tf.Tensor([ 0. 10. 20.], shape=(3,), dtype=float32)\n",
            "tf.Tensor(1, shape=(), dtype=int32)\n",
            "tf.Tensor([100. 200. 300.], shape=(3,), dtype=float32)\n",
            "tf.Tensor(1, shape=(), dtype=int32)\n",
            "tf.Tensor([1. 2. 3.], shape=(3,), dtype=float32)\n",
            "tf.Tensor(1, shape=(), dtype=int32)\n",
            "tf.Tensor([0. 0. 0.], shape=(3,), dtype=float32)\n",
            "tf.Tensor(1, shape=(), dtype=int32)\n",
            "tf.Tensor([1. 2. 3.], shape=(3,), dtype=float32)\n",
            "tf.Tensor(1, shape=(), dtype=int32)\n"
          ]
        }
      ]
    },
    {
      "cell_type": "code",
      "source": [
        "# 벡터를 구성하는 원소들의 합계\n",
        "print(tf.reduce_sum(vec1))\n",
        "print(tf.reduce_sum(vec2))\n",
        "\n",
        "#거듭제곱연산\n",
        "print(tf.math.square(vec1))\n",
        "#파이썬 연산자로 대체가능\n",
        "print(vec1**2)\n",
        "#제곱근 연산\n",
        "print(tf.math.sqrt(vec1))\n",
        "print(vec1**0.5)\n",
        "#브로드캐스팅연산\n",
        "print(vec1 + 1)"
      ],
      "metadata": {
        "colab": {
          "base_uri": "https://localhost:8080/"
        },
        "id": "jjtWsxThRAv4",
        "outputId": "0c5cfab9-ea16-415f-c257-5446ec2ae8ff"
      },
      "execution_count": null,
      "outputs": [
        {
          "output_type": "stream",
          "name": "stdout",
          "text": [
            "tf.Tensor(60.0, shape=(), dtype=float32)\n",
            "tf.Tensor(30.0, shape=(), dtype=float32)\n",
            "tf.Tensor([100. 400. 900.], shape=(3,), dtype=float32)\n",
            "tf.Tensor([100. 400. 900.], shape=(3,), dtype=float32)\n",
            "tf.Tensor([3.1622777 4.472136  5.477226 ], shape=(3,), dtype=float32)\n",
            "tf.Tensor([3.1622777 4.472136  5.477226 ], shape=(3,), dtype=float32)\n",
            "tf.Tensor([11. 21. 31.], shape=(3,), dtype=float32)\n"
          ]
        }
      ]
    },
    {
      "cell_type": "code",
      "source": [
        "# 2차원 텐서를 사용\n",
        "import tensorflow as tf\n",
        "list_of_list = [[10,20],[40,50]]\n",
        "mat1=tf.constant(list_of_list)\n",
        "print(mat1)\n",
        "print(tf.rank(mat1))"
      ],
      "metadata": {
        "colab": {
          "base_uri": "https://localhost:8080/"
        },
        "id": "_6mOofUoZI5i",
        "outputId": "d801c587-f7bf-41ce-b41d-cbcf0c8e8e3c"
      },
      "execution_count": null,
      "outputs": [
        {
          "output_type": "stream",
          "name": "stdout",
          "text": [
            "tf.Tensor(\n",
            "[[10 20]\n",
            " [40 50]], shape=(2, 2), dtype=int32)\n",
            "tf.Tensor(2, shape=(), dtype=int32)\n"
          ]
        }
      ]
    },
    {
      "cell_type": "code",
      "source": [
        "# 1차원 벡터를 더해서 2차원 벡터로 변환\n",
        "vec1=[1,0]\n",
        "vec2=[-1,2]\n",
        "#텐서변환-STACK함수로 1차원 배열을 위아래로 쌓기\n",
        "mat2= tf.stack([vec1,vec2])\n",
        "print(mat2)\n",
        "print(tf.rank(mat2))"
      ],
      "metadata": {
        "colab": {
          "base_uri": "https://localhost:8080/"
        },
        "id": "5fxJREy0ZJxH",
        "outputId": "00e6a1f8-6b0c-419c-bba1-dd4bc086590f"
      },
      "execution_count": null,
      "outputs": [
        {
          "output_type": "stream",
          "name": "stdout",
          "text": [
            "tf.Tensor(\n",
            "[[ 1  0]\n",
            " [-1  2]], shape=(2, 2), dtype=int32)\n",
            "tf.Tensor(2, shape=(), dtype=int32)\n"
          ]
        }
      ]
    },
    {
      "cell_type": "code",
      "source": [
        "# 행렬덧셈\n",
        "print(tf.math.add(mat1,mat2))\n",
        "# 브로드캐스팅연산\n",
        "print(tf.math.add(mat1,3))\n",
        "#행렬곱 연산\n",
        "print(tf.math.multiply(mat1,mat2))\n",
        "# 파이썬 연산자 활용\n",
        "add3=mat1+mat2\n",
        "print(add3)\n",
        "\n",
        "#텐서를 넘파이배열로 변환\n",
        "np_ARR = add3.numpy()\n",
        "print(np_ARR)\n",
        "print(type(np_ARR))"
      ],
      "metadata": {
        "colab": {
          "base_uri": "https://localhost:8080/"
        },
        "id": "84uffZ84ZJ8c",
        "outputId": "172d9b93-a50b-49cd-9d16-b2b3b234639a"
      },
      "execution_count": null,
      "outputs": [
        {
          "output_type": "stream",
          "name": "stdout",
          "text": [
            "tf.Tensor(\n",
            "[[11 20]\n",
            " [39 52]], shape=(2, 2), dtype=int32)\n",
            "tf.Tensor(\n",
            "[[13 23]\n",
            " [43 53]], shape=(2, 2), dtype=int32)\n",
            "tf.Tensor(\n",
            "[[ 10   0]\n",
            " [-40 100]], shape=(2, 2), dtype=int32)\n",
            "tf.Tensor(\n",
            "[[11 20]\n",
            " [39 52]], shape=(2, 2), dtype=int32)\n",
            "[[11 20]\n",
            " [39 52]]\n",
            "<class 'numpy.ndarray'>\n"
          ]
        }
      ]
    },
    {
      "cell_type": "code",
      "source": [
        "import tensorflow as tf\n",
        "vec1= tf.constant([1,2,3,4,5,6,7])\n",
        "#인덱스로 표현\n",
        "print(vec1[1])\n",
        "print(vec1[:3])"
      ],
      "metadata": {
        "colab": {
          "base_uri": "https://localhost:8080/"
        },
        "id": "YIycB0XMdhLL",
        "outputId": "8d729488-2fe3-41db-de55-239f47ea39c4"
      },
      "execution_count": null,
      "outputs": [
        {
          "output_type": "stream",
          "name": "stdout",
          "text": [
            "tf.Tensor(2, shape=(), dtype=int32)\n",
            "tf.Tensor([1 2 3], shape=(3,), dtype=int32)\n"
          ]
        }
      ]
    },
    {
      "cell_type": "code",
      "source": [
        "#행렬표현\n",
        "mat5 = tf.constant([[1,2,3],[4,5,6],[7,8,9]])\n",
        "#인덱스로 추출\n",
        "print(mat5[0,:])\n",
        "print(mat5[:,1])\n",
        "print(mat5)"
      ],
      "metadata": {
        "colab": {
          "base_uri": "https://localhost:8080/"
        },
        "id": "C-C1TllSdhRB",
        "outputId": "2f40ebfd-7d99-42ce-ffab-de97d1a3c7b6"
      },
      "execution_count": null,
      "outputs": [
        {
          "output_type": "stream",
          "name": "stdout",
          "text": [
            "tf.Tensor([1 2 3], shape=(3,), dtype=int32)\n",
            "tf.Tensor([2 5 8], shape=(3,), dtype=int32)\n",
            "tf.Tensor(\n",
            "[[1 2 3]\n",
            " [4 5 6]\n",
            " [7 8 9]], shape=(3, 3), dtype=int32)\n"
          ]
        }
      ]
    },
    {
      "cell_type": "code",
      "source": [
        "#1차원 텐서정의\n",
        "tensor = tf.constant(range(24))\n",
        "print(tensor)\n",
        "#(3,8)크기의 행렬로 변환\n",
        "tensor1=tf.reshape(tensor,[3,8])\n",
        "print(tensor1)\n",
        "# -1은 어떤크기가 되어도 상관없다는 의미\n",
        "tensor2=tf.reshape(tensor,[-1,4])\n",
        "print(tensor2)\n",
        "\n",
        "tensor4=tf.reshape(tensor,[-1,2,3])\n",
        "print(tensor4)"
      ],
      "metadata": {
        "colab": {
          "base_uri": "https://localhost:8080/"
        },
        "id": "iBTfDc2zdhUc",
        "outputId": "ced35c68-297d-4ff9-d805-6e059ad263cf"
      },
      "execution_count": null,
      "outputs": [
        {
          "output_type": "stream",
          "name": "stdout",
          "text": [
            "tf.Tensor([ 0  1  2  3  4  5  6  7  8  9 10 11 12 13 14 15 16 17 18 19 20 21 22 23], shape=(24,), dtype=int32)\n",
            "tf.Tensor(\n",
            "[[ 0  1  2  3  4  5  6  7]\n",
            " [ 8  9 10 11 12 13 14 15]\n",
            " [16 17 18 19 20 21 22 23]], shape=(3, 8), dtype=int32)\n",
            "tf.Tensor(\n",
            "[[ 0  1  2  3]\n",
            " [ 4  5  6  7]\n",
            " [ 8  9 10 11]\n",
            " [12 13 14 15]\n",
            " [16 17 18 19]\n",
            " [20 21 22 23]], shape=(6, 4), dtype=int32)\n",
            "tf.Tensor(\n",
            "[[[ 0  1  2]\n",
            "  [ 3  4  5]]\n",
            "\n",
            " [[ 6  7  8]\n",
            "  [ 9 10 11]]\n",
            "\n",
            " [[12 13 14]\n",
            "  [15 16 17]]\n",
            "\n",
            " [[18 19 20]\n",
            "  [21 22 23]]], shape=(4, 2, 3), dtype=int32)\n"
          ]
        }
      ]
    },
    {
      "cell_type": "code",
      "source": [
        "#4차원 텐서로 변환\n",
        "tensor5=tf.reshape(tensor,[3,2,2,2])\n",
        "print(tensor5)"
      ],
      "metadata": {
        "colab": {
          "base_uri": "https://localhost:8080/"
        },
        "id": "yM0kGJm2ZJ_Y",
        "outputId": "9d5a9564-1e78-406b-9735-d88418ba1cfa"
      },
      "execution_count": null,
      "outputs": [
        {
          "output_type": "stream",
          "name": "stdout",
          "text": [
            "tf.Tensor(\n",
            "[[[[ 0  1]\n",
            "   [ 2  3]]\n",
            "\n",
            "  [[ 4  5]\n",
            "   [ 6  7]]]\n",
            "\n",
            "\n",
            " [[[ 8  9]\n",
            "   [10 11]]\n",
            "\n",
            "  [[12 13]\n",
            "   [14 15]]]\n",
            "\n",
            "\n",
            " [[[16 17]\n",
            "   [18 19]]\n",
            "\n",
            "  [[20 21]\n",
            "   [22 23]]]], shape=(3, 2, 2, 2), dtype=int32)\n"
          ]
        }
      ]
    },
    {
      "cell_type": "code",
      "source": [
        "import tensorflow as tf\n",
        "tensor1= tf.constant([[1,2],[3,4]])\n",
        "\n",
        "print(tensor1)\n",
        "# 텐서플로 변수값 생성\n",
        "tensor_var = tf.Variable(tensor1)\n",
        "print(tensor_var)"
      ],
      "metadata": {
        "colab": {
          "base_uri": "https://localhost:8080/"
        },
        "id": "Cm1Qgb62j0BB",
        "outputId": "b849c8cb-14a9-4e53-e4c4-d51a914e41f0"
      },
      "execution_count": null,
      "outputs": [
        {
          "output_type": "stream",
          "name": "stdout",
          "text": [
            "tf.Tensor(\n",
            "[[1 2]\n",
            " [3 4]], shape=(2, 2), dtype=int32)\n",
            "<tf.Variable 'Variable:0' shape=(2, 2) dtype=int32, numpy=\n",
            "array([[1, 2],\n",
            "       [3, 4]], dtype=int32)>\n"
          ]
        }
      ]
    },
    {
      "cell_type": "code",
      "source": [
        "# 변수의 속성값들 출력\n",
        "print(tensor_var.dtype)\n",
        "print(tensor_var.shape)\n",
        "print(tensor_var.name)\n",
        "print(tensor_var.numpy())"
      ],
      "metadata": {
        "colab": {
          "base_uri": "https://localhost:8080/"
        },
        "id": "WUnQQDSij0Dh",
        "outputId": "c549c0e4-58f8-43de-cc2b-26f8f4ae1806"
      },
      "execution_count": null,
      "outputs": [
        {
          "output_type": "stream",
          "name": "stdout",
          "text": [
            "<dtype: 'int32'>\n",
            "(2, 2)\n",
            "Variable:0\n",
            "[[1 2]\n",
            " [3 4]]\n"
          ]
        }
      ]
    },
    {
      "cell_type": "code",
      "source": [
        "#텐서플로 변수에 새로운 데이터를 할당\n",
        "tensor_var.assign([[5,6],[7,8]])\n",
        "print(tensor_var)"
      ],
      "metadata": {
        "colab": {
          "base_uri": "https://localhost:8080/"
        },
        "id": "WOTkptP6j0GX",
        "outputId": "5238ab02-4028-4eab-8e0b-b30d5f48a796"
      },
      "execution_count": null,
      "outputs": [
        {
          "output_type": "stream",
          "name": "stdout",
          "text": [
            "<tf.Variable 'Variable:0' shape=(2, 2) dtype=int32, numpy=\n",
            "array([[5, 6],\n",
            "       [7, 8]], dtype=int32)>\n"
          ]
        }
      ]
    },
    {
      "cell_type": "code",
      "source": [
        "# 텐서플로 변수를 다시 텐서로 변환\n",
        "tensor2= tf.convert_to_tensor(tensor_var)\n",
        "print(tensor2)"
      ],
      "metadata": {
        "colab": {
          "base_uri": "https://localhost:8080/"
        },
        "id": "HVWu_ROOy-D8",
        "outputId": "b261fc44-aad2-40db-d78f-daf46dd2bc3e"
      },
      "execution_count": null,
      "outputs": [
        {
          "output_type": "stream",
          "name": "stdout",
          "text": [
            "tf.Tensor(\n",
            "[[5 6]\n",
            " [7 8]], shape=(2, 2), dtype=int32)\n"
          ]
        }
      ]
    },
    {
      "cell_type": "code",
      "source": [
        "#변수를 정의할때 사용자가 원하는 이름으로 설정이 가능\n",
        "tensor_var2= tf.Variable(tensor2,name='joo hyuk')\n",
        "print(tensor_var2.name)\n",
        "\n",
        "tensor_var + tensor_var2"
      ],
      "metadata": {
        "colab": {
          "base_uri": "https://localhost:8080/"
        },
        "id": "uY-9PvJqy-T2",
        "outputId": "b52654f1-6c45-4389-e27f-38ebd1964bac"
      },
      "execution_count": null,
      "outputs": [
        {
          "output_type": "stream",
          "name": "stdout",
          "text": [
            "joo hyuk:0\n"
          ]
        },
        {
          "output_type": "execute_result",
          "data": {
            "text/plain": [
              "<tf.Tensor: shape=(2, 2), dtype=int32, numpy=\n",
              "array([[10, 12],\n",
              "       [14, 16]], dtype=int32)>"
            ]
          },
          "metadata": {},
          "execution_count": 15
        }
      ]
    },
    {
      "cell_type": "code",
      "source": [
        "import tensorflow as tf\n",
        "\n",
        "# y=3x-2 와 선형관계를 갖는 데이터셋 생성\n",
        "g= tf.random.Generator.from_seed(2020) # tf.random 모듈의 generator를 활용해서 정규분포를 갖는 10개의 숫자데이터 생성\n",
        "x=g.normal(shape=(10,))\n",
        "y=3*x-2\n",
        "\n",
        "print(x)\n",
        "print(y)"
      ],
      "metadata": {
        "id": "BgXXdOx6j0J3"
      },
      "execution_count": null,
      "outputs": []
    },
    {
      "cell_type": "code",
      "source": [
        "#loss 함수 정의\n",
        "def cal_mse(X,Y,a,b):\n",
        "  Y_pred = a*X+b\n",
        "  squared_error= (Y_pred-Y)**2\n",
        "  mean_squared_error= tf.reduce_mean(squared_error) # 손실 값의 평균계산 함수\n",
        "  return mean_squared_error\n",
        "# tf.GradientTape 로 자동미분과정 기록\n",
        "\n",
        "a= tf.Variable(0.0)\n",
        "b= tf.Variable(0.0)\n",
        "\n",
        "epochs=200\n",
        "\n",
        "for epoch in range(1,epochs+1):\n",
        "  with tf.GradientTape() as tape:\n",
        "    mse= cal_mse(x,y,a,b)\n",
        "  grad = tape.gradient(mse,{'a':a,'b':b}) # gradient함수를 사용하여 mse안에 있는 미분값을 추출하여 딕셔너리 형태로 grad 변수에 저장\n",
        "  a.assign_sub(grad['a']*0.01)\n",
        "  b.assign_sub(grad['b']*0.01)\n",
        "\n",
        "  if epoch%20==0:\n",
        "    print(\"epoch%d - mse%4f -a:%.2f - b:%.2f\" %(epoch,mse,a,b))"
      ],
      "metadata": {
        "colab": {
          "base_uri": "https://localhost:8080/"
        },
        "id": "b4GEdc5M-80_",
        "outputId": "600fb792-5fb8-4252-d4a8-4daff00249fb"
      },
      "execution_count": null,
      "outputs": [
        {
          "output_type": "stream",
          "name": "stdout",
          "text": [
            "epoch20 - mse3.501759 -a:0.57 - b:-0.06\n",
            "epoch40 - mse2.545295 -a:0.98 - b:-0.22\n",
            "epoch60 - mse1.908635 -a:1.28 - b:-0.39\n",
            "epoch80 - mse1.446881 -a:1.53 - b:-0.57\n",
            "epoch100 - mse1.100896 -a:1.72 - b:-0.74\n",
            "epoch120 - mse0.838685 -a:1.89 - b:-0.90\n",
            "epoch140 - mse0.639193 -a:2.04 - b:-1.03\n",
            "epoch160 - mse0.487220 -a:2.16 - b:-1.15\n",
            "epoch180 - mse0.371397 -a:2.27 - b:-1.26\n",
            "epoch200 - mse0.283113 -a:2.36 - b:-1.35\n"
          ]
        }
      ]
    },
    {
      "cell_type": "code",
      "source": [
        "# 경사하강법 모델\n",
        "import numpy as np\n",
        "import matplotlib.pyplot as plt\n",
        "\n",
        "def make_linear(w=0.5, b=0.8,size=50,noise=1.0):\n",
        "  x= np.random.rand(size)\n",
        "  y=w*x+b\n",
        "  noise=np.random.uniform(-abs(noise),abs(noise),size=y.shape) # 하한값, 상한값, 사이즈 ,abs는 절댓값을 의미 , 함수는 균일분포를 따르는 난수를 생성을 의미\n",
        "  yy=y+noise\n",
        "  plt.figure(figsize=(8,6))\n",
        "  plt.plot(x,y,color='r',label=f'y={w}*x+{b}')\n",
        "  plt.scatter(x,yy,label='data')\n",
        "  plt.show()\n",
        "  print(f'w:{w},b:{b}')\n",
        "  return x,yy\n",
        "\n",
        "x,y=make_linear(w=0.3,b=0.5,size=100,noise=0.01)"
      ],
      "metadata": {
        "colab": {
          "base_uri": "https://localhost:8080/",
          "height": 540
        },
        "id": "XMW7AqAeHphj",
        "outputId": "8275b6aa-249e-4920-9874-4fc03d59c3b4"
      },
      "execution_count": null,
      "outputs": [
        {
          "output_type": "display_data",
          "data": {
            "text/plain": [
              "<Figure size 800x600 with 1 Axes>"
            ],
            "image/png": "[encoded data removed]"
          },
          "metadata": {}
        },
        {
          "output_type": "stream",
          "name": "stdout",
          "text": [
            "w:0.3,b:0.5\n"
          ]
        }
      ]
    },
    {
      "cell_type": "code",
      "source": [
        "# 가중치 수정\n",
        "\n",
        "# 최대반복횟수\n",
        "num_epoch=1000\n",
        "#학습률\n",
        "learning_rate = 0.005\n",
        "#에러기록\n",
        "errors=[]\n",
        "# random 한 값으로 w,b를 초기화\n",
        "w= np.random.uniform(0,1)\n",
        "b= np.random.uniform(0,1)\n",
        "\n",
        "for epoch in range(num_epoch):\n",
        "  # hypothesis 정의\n",
        "  y_hat = y*w +b\n",
        "  #loss function 정의\n",
        "  error= 0.5*((y-y_hat)**2).sum()\n",
        "  if error < 0.005:\n",
        "    break\n",
        "\n",
        "  #gradient 미분계산\n",
        "  w = w -learning_rate*((y_hat-y)*x).sum()\n",
        "  b = b -learning_rate* (y_hat-y).sum()\n",
        "\n",
        "  errors.append(error)\n",
        "\n",
        "  if epoch%5==0:\n",
        "    print(\"{0:2}w={1:.5f},b={2:.5f} error={3:.5f}\".format(epoch,w,b,error))\n",
        "\n",
        "print(\"______\"*10)\n",
        "print(\"{0:2}w={1:.5f},b={2:.5f} error={3:.5f}\".format(epoch,w,b,error))"
      ],
      "metadata": {
        "colab": {
          "base_uri": "https://localhost:8080/"
        },
        "id": "pyG7b6XhHp2n",
        "outputId": "92a994a5-fc3b-413e-add9-231a775c6f8b"
      },
      "execution_count": null,
      "outputs": [
        {
          "output_type": "stream",
          "name": "stdout",
          "text": [
            " 0w=0.74309,b=0.20701 error=0.66831\n",
            " 5w=0.74174,b=0.17039 error=0.02651\n",
            "10w=0.75375,b=0.16230 error=0.02397\n",
            "15w=0.76526,b=0.15472 error=0.02178\n",
            "20w=0.77624,b=0.14748 error=0.01979\n",
            "25w=0.78670,b=0.14059 error=0.01798\n",
            "30w=0.79667,b=0.13402 error=0.01634\n",
            "35w=0.80618,b=0.12775 error=0.01485\n",
            "40w=0.81524,b=0.12178 error=0.01349\n",
            "45w=0.82388,b=0.11608 error=0.01226\n",
            "50w=0.83211,b=0.11066 error=0.01114\n",
            "55w=0.83996,b=0.10548 error=0.01012\n",
            "60w=0.84744,b=0.10055 error=0.00920\n",
            "65w=0.85457,b=0.09585 error=0.00836\n",
            "70w=0.86137,b=0.09137 error=0.00760\n",
            "75w=0.86785,b=0.08710 error=0.00690\n",
            "80w=0.87403,b=0.08303 error=0.00627\n",
            "85w=0.87992,b=0.07914 error=0.00570\n",
            "90w=0.88554,b=0.07544 error=0.00518\n",
            "____________________________________________________________\n",
            "92w=0.88663,b=0.07473 error=0.00498\n"
          ]
        }
      ]
    },
    {
      "cell_type": "code",
      "source": [
        "plt.figure(figsize=(8,6))\n",
        "plt.plot(errors)\n",
        "plt.xlabel(\"epochs\")\n",
        "plt.ylabel(\"errors\")\n",
        "plt.show()"
      ],
      "metadata": {
        "colab": {
          "base_uri": "https://localhost:8080/",
          "height": 546
        },
        "id": "LovGTKZxcV-T",
        "outputId": "eefea0dd-4caa-4adc-ad34-61049cc1d3c7"
      },
      "execution_count": null,
      "outputs": [
        {
          "output_type": "display_data",
          "data": {
            "text/plain": [
              "<Figure size 800x600 with 1 Axes>"
            ],
            "image/png": "[encoded data removed]"
          },
          "metadata": {}
        }
      ]
    },
    {
      "cell_type": "code",
      "source": [],
      "metadata": {
        "id": "TjVrA2WicWEa"
      },
      "execution_count": null,
      "outputs": []
    },
    {
      "cell_type": "markdown",
      "source": [
        "# 새 섹션"
      ],
      "metadata": {
        "id": "NvytX_T4M2oE"
      }
    },
    {
      "cell_type": "code",
      "source": [
        "import tensorflow as tf\n",
        "#10개의 노드로 이루어진 dense 레이어\n",
        "tf.keras.layers.Dense(10)\n",
        "\n",
        "#relu활성화 함수적용\n",
        "tf.keras.layers.Dense(10, activation='relu')"
      ],
      "metadata": {
        "colab": {
          "base_uri": "https://localhost:8080/"
        },
        "id": "8syGY2Ag3P6E",
        "outputId": "d4931404-46b8-49f6-86c0-3397dcc275be"
      },
      "execution_count": null,
      "outputs": [
        {
          "output_type": "execute_result",
          "data": {
            "text/plain": [
              "<Dense name=dense_1, built=False>"
            ]
          },
          "metadata": {},
          "execution_count": 36
        }
      ]
    },
    {
      "cell_type": "code",
      "source": [
        "import numpy as np\n",
        "import matplotlib.pyplot as plt\n",
        "# 샘플데이터생성\n",
        "x=np.arange(1,6)\n",
        "\n",
        "#y=3x+2\n",
        "y=3*x +2\n",
        "print(x)\n",
        "print(y)\n",
        "# 시각화\n",
        "plt.figure(figsize=(8,6))\n",
        "plt.plot(x,y)\n",
        "plt.show()"
      ],
      "metadata": {
        "colab": {
          "base_uri": "https://localhost:8080/",
          "height": 558
        },
        "id": "HDHskzav3QEw",
        "outputId": "2eef1872-c426-47b5-e55d-91fddb28b046"
      },
      "execution_count": null,
      "outputs": [
        {
          "output_type": "stream",
          "name": "stdout",
          "text": [
            "[1 2 3 4 5]\n",
            "[ 5  8 11 14 17]\n"
          ]
        },
        {
          "output_type": "display_data",
          "data": {
            "text/plain": [
              "<Figure size 800x600 with 1 Axes>"
            ],
            "image/png": "[encoded data removed]"
          },
          "metadata": {}
        }
      ]
    },
    {
      "cell_type": "code",
      "source": [
        "#리스트형 정의로 sequential 클래스 함수에 파이썬 리스트형태로 여러개의 층을 입력\n",
        "model= tf.keras.Sequential([\n",
        "       tf.keras.layers.Dense(10, input_shape=[1]), # 첫번째 층은 input_shape 매개변수를 지정해야함. 주입할 데이터셋의 shape이 (150,4)이면 inputshape도 4로 지정\n",
        "       tf.keras.layers.Dense(5), # 1차함수식은 입력데이터가 x 값을 나타내는입력변수 1개이므로 inputshape는 1로 해야한다.\n",
        "       tf.keras.layers.Dense(1),\n",
        "])\n",
        "# add 함수를 이용해서 층을 추가할 수 있음\n",
        "model.add(tf.keras.layers.Dense(10))\n",
        "model.add(tf.keras.layers.Dense(5))\n",
        "model.add(tf.keras.layers.Dense(1))\n",
        "# 모델요약본을 확인\n",
        "model.summary()  # params는 모델 내부에 존재하는 모든 파라미터의 합계"
      ],
      "metadata": {
        "colab": {
          "base_uri": "https://localhost:8080/",
          "height": 377
        },
        "id": "uosRrV_q4Str",
        "outputId": "33ec7f46-6adb-45d0-b42a-f5e19174f8df"
      },
      "execution_count": null,
      "outputs": [
        {
          "output_type": "stream",
          "name": "stderr",
          "text": [
            "/usr/local/lib/python3.10/dist-packages/keras/src/layers/core/dense.py:87: UserWarning: Do not pass an `input_shape`/`input_dim` argument to a layer. When using Sequential models, prefer using an `Input(shape)` object as the first layer in the model instead.\n",
            "  super().__init__(activity_regularizer=activity_regularizer, **kwargs)\n"
          ]
        },
        {
          "output_type": "display_data",
          "data": {
            "text/plain": [
              "\u001b[1mModel: \"sequential_2\"\u001b[0m\n"
            ],
            "text/html": [
              "<pre style=\"white-space:pre;overflow-x:auto;line-height:normal;font-family:Menlo,'DejaVu Sans Mono',consolas,'Courier New',monospace\"><span style=\"font-weight: bold\">Model: \"sequential_2\"</span>\n",
              "</pre>\n"
            ]
          },
          "metadata": {}
        },
        {
          "output_type": "display_data",
          "data": {
            "text/plain": [
              "┏━━━━━━━━━━━━━━━━━━━━━━━━━━━━━━━━━━━━━━┳━━━━━━━━━━━━━━━━━━━━━━━━━━━━━┳━━━━━━━━━━━━━━━━━┓\n",
              "┃\u001b[1m \u001b[0m\u001b[1mLayer (type)                        \u001b[0m\u001b[1m \u001b[0m┃\u001b[1m \u001b[0m\u001b[1mOutput Shape               \u001b[0m\u001b[1m \u001b[0m┃\u001b[1m \u001b[0m\u001b[1m        Param #\u001b[0m\u001b[1m \u001b[0m┃\n",
              "┡━━━━━━━━━━━━━━━━━━━━━━━━━━━━━━━━━━━━━━╇━━━━━━━━━━━━━━━━━━━━━━━━━━━━━╇━━━━━━━━━━━━━━━━━┩\n",
              "│ dense_14 (\u001b[38;5;33mDense\u001b[0m)                     │ (\u001b[38;5;45mNone\u001b[0m, \u001b[38;5;34m10\u001b[0m)                  │              \u001b[38;5;34m20\u001b[0m │\n",
              "├──────────────────────────────────────┼─────────────────────────────┼─────────────────┤\n",
              "│ dense_15 (\u001b[38;5;33mDense\u001b[0m)                     │ (\u001b[38;5;45mNone\u001b[0m, \u001b[38;5;34m5\u001b[0m)                   │              \u001b[38;5;34m55\u001b[0m │\n",
              "├──────────────────────────────────────┼─────────────────────────────┼─────────────────┤\n",
              "│ dense_16 (\u001b[38;5;33mDense\u001b[0m)                     │ (\u001b[38;5;45mNone\u001b[0m, \u001b[38;5;34m1\u001b[0m)                   │               \u001b[38;5;34m6\u001b[0m │\n",
              "├──────────────────────────────────────┼─────────────────────────────┼─────────────────┤\n",
              "│ dense_17 (\u001b[38;5;33mDense\u001b[0m)                     │ (\u001b[38;5;45mNone\u001b[0m, \u001b[38;5;34m10\u001b[0m)                  │              \u001b[38;5;34m20\u001b[0m │\n",
              "├──────────────────────────────────────┼─────────────────────────────┼─────────────────┤\n",
              "│ dense_18 (\u001b[38;5;33mDense\u001b[0m)                     │ (\u001b[38;5;45mNone\u001b[0m, \u001b[38;5;34m5\u001b[0m)                   │              \u001b[38;5;34m55\u001b[0m │\n",
              "├──────────────────────────────────────┼─────────────────────────────┼─────────────────┤\n",
              "│ dense_19 (\u001b[38;5;33mDense\u001b[0m)                     │ (\u001b[38;5;45mNone\u001b[0m, \u001b[38;5;34m1\u001b[0m)                   │               \u001b[38;5;34m6\u001b[0m │\n",
              "└──────────────────────────────────────┴─────────────────────────────┴─────────────────┘\n"
            ],
            "text/html": [
              "<pre style=\"white-space:pre;overflow-x:auto;line-height:normal;font-family:Menlo,'DejaVu Sans Mono',consolas,'Courier New',monospace\">┏━━━━━━━━━━━━━━━━━━━━━━━━━━━━━━━━━━━━━━┳━━━━━━━━━━━━━━━━━━━━━━━━━━━━━┳━━━━━━━━━━━━━━━━━┓\n",
              "┃<span style=\"font-weight: bold\"> Layer (type)                         </span>┃<span style=\"font-weight: bold\"> Output Shape                </span>┃<span style=\"font-weight: bold\">         Param # </span>┃\n",
              "┡━━━━━━━━━━━━━━━━━━━━━━━━━━━━━━━━━━━━━━╇━━━━━━━━━━━━━━━━━━━━━━━━━━━━━╇━━━━━━━━━━━━━━━━━┩\n",
              "│ dense_14 (<span style=\"color: #0087ff; text-decoration-color: #0087ff\">Dense</span>)                     │ (<span style=\"color: #00d7ff; text-decoration-color: #00d7ff\">None</span>, <span style=\"color: #00af00; text-decoration-color: #00af00\">10</span>)                  │              <span style=\"color: #00af00; text-decoration-color: #00af00\">20</span> │\n",
              "├──────────────────────────────────────┼─────────────────────────────┼─────────────────┤\n",
              "│ dense_15 (<span style=\"color: #0087ff; text-decoration-color: #0087ff\">Dense</span>)                     │ (<span style=\"color: #00d7ff; text-decoration-color: #00d7ff\">None</span>, <span style=\"color: #00af00; text-decoration-color: #00af00\">5</span>)                   │              <span style=\"color: #00af00; text-decoration-color: #00af00\">55</span> │\n",
              "├──────────────────────────────────────┼─────────────────────────────┼─────────────────┤\n",
              "│ dense_16 (<span style=\"color: #0087ff; text-decoration-color: #0087ff\">Dense</span>)                     │ (<span style=\"color: #00d7ff; text-decoration-color: #00d7ff\">None</span>, <span style=\"color: #00af00; text-decoration-color: #00af00\">1</span>)                   │               <span style=\"color: #00af00; text-decoration-color: #00af00\">6</span> │\n",
              "├──────────────────────────────────────┼─────────────────────────────┼─────────────────┤\n",
              "│ dense_17 (<span style=\"color: #0087ff; text-decoration-color: #0087ff\">Dense</span>)                     │ (<span style=\"color: #00d7ff; text-decoration-color: #00d7ff\">None</span>, <span style=\"color: #00af00; text-decoration-color: #00af00\">10</span>)                  │              <span style=\"color: #00af00; text-decoration-color: #00af00\">20</span> │\n",
              "├──────────────────────────────────────┼─────────────────────────────┼─────────────────┤\n",
              "│ dense_18 (<span style=\"color: #0087ff; text-decoration-color: #0087ff\">Dense</span>)                     │ (<span style=\"color: #00d7ff; text-decoration-color: #00d7ff\">None</span>, <span style=\"color: #00af00; text-decoration-color: #00af00\">5</span>)                   │              <span style=\"color: #00af00; text-decoration-color: #00af00\">55</span> │\n",
              "├──────────────────────────────────────┼─────────────────────────────┼─────────────────┤\n",
              "│ dense_19 (<span style=\"color: #0087ff; text-decoration-color: #0087ff\">Dense</span>)                     │ (<span style=\"color: #00d7ff; text-decoration-color: #00d7ff\">None</span>, <span style=\"color: #00af00; text-decoration-color: #00af00\">1</span>)                   │               <span style=\"color: #00af00; text-decoration-color: #00af00\">6</span> │\n",
              "└──────────────────────────────────────┴─────────────────────────────┴─────────────────┘\n",
              "</pre>\n"
            ]
          },
          "metadata": {}
        },
        {
          "output_type": "display_data",
          "data": {
            "text/plain": [
              "\u001b[1m Total params: \u001b[0m\u001b[38;5;34m162\u001b[0m (648.00 B)\n"
            ],
            "text/html": [
              "<pre style=\"white-space:pre;overflow-x:auto;line-height:normal;font-family:Menlo,'DejaVu Sans Mono',consolas,'Courier New',monospace\"><span style=\"font-weight: bold\"> Total params: </span><span style=\"color: #00af00; text-decoration-color: #00af00\">162</span> (648.00 B)\n",
              "</pre>\n"
            ]
          },
          "metadata": {}
        },
        {
          "output_type": "display_data",
          "data": {
            "text/plain": [
              "\u001b[1m Trainable params: \u001b[0m\u001b[38;5;34m162\u001b[0m (648.00 B)\n"
            ],
            "text/html": [
              "<pre style=\"white-space:pre;overflow-x:auto;line-height:normal;font-family:Menlo,'DejaVu Sans Mono',consolas,'Courier New',monospace\"><span style=\"font-weight: bold\"> Trainable params: </span><span style=\"color: #00af00; text-decoration-color: #00af00\">162</span> (648.00 B)\n",
              "</pre>\n"
            ]
          },
          "metadata": {}
        },
        {
          "output_type": "display_data",
          "data": {
            "text/plain": [
              "\u001b[1m Non-trainable params: \u001b[0m\u001b[38;5;34m0\u001b[0m (0.00 B)\n"
            ],
            "text/html": [
              "<pre style=\"white-space:pre;overflow-x:auto;line-height:normal;font-family:Menlo,'DejaVu Sans Mono',consolas,'Courier New',monospace\"><span style=\"font-weight: bold\"> Non-trainable params: </span><span style=\"color: #00af00; text-decoration-color: #00af00\">0</span> (0.00 B)\n",
              "</pre>\n"
            ]
          },
          "metadata": {}
        }
      ]
    },
    {
      "cell_type": "code",
      "source": [
        "# 모델 컴파일 , 컴파일 단계에서는 모델의 훈련과정에서 적용할 optimizer, loss function,metrics(평가지표)를 정의\n",
        "# 클래스인스턴스로 지정할경우, 학습률,모멘텀등 하이퍼파라미터를 사용자가 직접 지정가능, 문자열로 지정시 기본값으로 설정된걸로 사용(수정x)\n",
        "\n",
        "# 긴문자열지정\n",
        "# model.compile(optimizer='sgd',loss='mean_squared_error',\n",
        "#               metrics=['mean_squared_error','mean_absolute_error'])\n",
        "\n",
        "# # 짧은 문자열 지정\n",
        "# model.compile(optimizer='sgd',loss='mse',metrics=['mse','mae'])\n",
        "\n",
        "# # 클래스인스턴스 지정\n",
        "# model.compile(optimizer=tf.keras.optimizers.SGD(lr=0.005)\n",
        "# ,loss=tf.keras.losses.MeanAbsoluteError()\n",
        "# ,metrics=[tf.keras.metrics.MeanAbsoluteError(),tf.keras.metrics.MeanSquareError()\n",
        "# ])\n",
        "\n",
        "# 컴파일\n",
        "model.compile(optimizer='sgd',loss='mse',metrics=['mae'])"
      ],
      "metadata": {
        "id": "bEO68PDq4Sv7"
      },
      "execution_count": null,
      "outputs": []
    },
    {
      "cell_type": "code",
      "source": [
        "# 훈련, fit()메소드를 적용해서 데이터를 입력하여 모델 훈련가능\n",
        "#모델훈련의 의미 = 가중치텐서를 업데이트하는 것\n",
        "# fit()메소드에는 훈련용 데이터셋의 입력x, 출력y,epoch수 지정 , 기본적으로 매 epoch가ㅣ 끝날때마다 훈련데이터셋에대한 손실과 평가지표 출력하지만\n",
        "# verbose=0을 지정하면 훈련중간과정을 거치지 않음\n",
        "history=model.fit(x,y,epochs=100)"
      ],
      "metadata": {
        "collapsed": true,
        "id": "Ib7ZWHvr4Szc"
      },
      "execution_count": null,
      "outputs": []
    },
    {
      "cell_type": "code",
      "source": [
        "import matplotlib.pyplot as plt\n",
        "\n",
        "plt.plot(history.history['loss'], label='loss')\n",
        "plt.plot(history.history['mae'], label='mae')\n",
        "plt.xlim(-1,20)\n",
        "plt.title('LOSS')\n",
        "plt.legend()\n",
        "plt.show()"
      ],
      "metadata": {
        "colab": {
          "base_uri": "https://localhost:8080/",
          "height": 452
        },
        "id": "c6iRHXQxBk3N",
        "outputId": "89213db0-7490-4934-c8c4-eb23744c30f5"
      },
      "execution_count": null,
      "outputs": [
        {
          "output_type": "display_data",
          "data": {
            "text/plain": [
              "<Figure size 640x480 with 1 Axes>"
            ],
            "image/png": "[encoded data removed]"
          },
          "metadata": {}
        }
      ]
    },
    {
      "cell_type": "code",
      "source": [
        "# 모델검증\n",
        "model.evaluate(x,y)\n",
        "# 예측\n",
        "model.predict([10])"
      ],
      "metadata": {
        "colab": {
          "base_uri": "https://localhost:8080/",
          "height": 370
        },
        "id": "gs_3S0_HBlFS",
        "outputId": "7f840526-fb45-4efb-d07c-e93a8bb99175"
      },
      "execution_count": null,
      "outputs": [
        {
          "output_type": "stream",
          "name": "stdout",
          "text": [
            "\u001b[1m1/1\u001b[0m \u001b[32m━━━━━━━━━━━━━━━━━━━━\u001b[0m\u001b[37m\u001b[0m \u001b[1m0s\u001b[0m 105ms/step - loss: nan - mae: nan\n"
          ]
        },
        {
          "output_type": "error",
          "ename": "ValueError",
          "evalue": "Unrecognized data type: x=[10] (of type <class 'list'>)",
          "traceback": [
            "\u001b[0;31m---------------------------------------------------------------------------\u001b[0m",
            "\u001b[0;31mValueError\u001b[0m                                Traceback (most recent call last)",
            "\u001b[0;32m<ipython-input-56-884acd3e96f4>\u001b[0m in \u001b[0;36m<cell line: 4>\u001b[0;34m()\u001b[0m\n\u001b[1;32m      2\u001b[0m \u001b[0mmodel\u001b[0m\u001b[0;34m.\u001b[0m\u001b[0mevaluate\u001b[0m\u001b[0;34m(\u001b[0m\u001b[0mx\u001b[0m\u001b[0;34m,\u001b[0m\u001b[0my\u001b[0m\u001b[0;34m)\u001b[0m\u001b[0;34m\u001b[0m\u001b[0;34m\u001b[0m\u001b[0m\n\u001b[1;32m      3\u001b[0m \u001b[0;31m# 예측\u001b[0m\u001b[0;34m\u001b[0m\u001b[0;34m\u001b[0m\u001b[0m\n\u001b[0;32m----> 4\u001b[0;31m \u001b[0mmodel\u001b[0m\u001b[0;34m.\u001b[0m\u001b[0mpredict\u001b[0m\u001b[0;34m(\u001b[0m\u001b[0;34m[\u001b[0m\u001b[0;36m10\u001b[0m\u001b[0;34m]\u001b[0m\u001b[0;34m)\u001b[0m\u001b[0;34m\u001b[0m\u001b[0;34m\u001b[0m\u001b[0m\n\u001b[0m",
            "\u001b[0;32m/usr/local/lib/python3.10/dist-packages/keras/src/utils/traceback_utils.py\u001b[0m in \u001b[0;36merror_handler\u001b[0;34m(*args, **kwargs)\u001b[0m\n\u001b[1;32m    120\u001b[0m             \u001b[0;31m# To get the full stack trace, call:\u001b[0m\u001b[0;34m\u001b[0m\u001b[0;34m\u001b[0m\u001b[0m\n\u001b[1;32m    121\u001b[0m             \u001b[0;31m# `keras.config.disable_traceback_filtering()`\u001b[0m\u001b[0;34m\u001b[0m\u001b[0;34m\u001b[0m\u001b[0m\n\u001b[0;32m--> 122\u001b[0;31m             \u001b[0;32mraise\u001b[0m \u001b[0me\u001b[0m\u001b[0;34m.\u001b[0m\u001b[0mwith_traceback\u001b[0m\u001b[0;34m(\u001b[0m\u001b[0mfiltered_tb\u001b[0m\u001b[0;34m)\u001b[0m \u001b[0;32mfrom\u001b[0m \u001b[0;32mNone\u001b[0m\u001b[0;34m\u001b[0m\u001b[0;34m\u001b[0m\u001b[0m\n\u001b[0m\u001b[1;32m    123\u001b[0m         \u001b[0;32mfinally\u001b[0m\u001b[0;34m:\u001b[0m\u001b[0;34m\u001b[0m\u001b[0;34m\u001b[0m\u001b[0m\n\u001b[1;32m    124\u001b[0m             \u001b[0;32mdel\u001b[0m \u001b[0mfiltered_tb\u001b[0m\u001b[0;34m\u001b[0m\u001b[0;34m\u001b[0m\u001b[0m\n",
            "\u001b[0;32m/usr/local/lib/python3.10/dist-packages/keras/src/trainers/data_adapters/__init__.py\u001b[0m in \u001b[0;36mget_data_adapter\u001b[0;34m(x, y, sample_weight, batch_size, steps_per_epoch, shuffle, class_weight)\u001b[0m\n\u001b[1;32m    118\u001b[0m         \u001b[0;31m# )\u001b[0m\u001b[0;34m\u001b[0m\u001b[0;34m\u001b[0m\u001b[0m\n\u001b[1;32m    119\u001b[0m     \u001b[0;32melse\u001b[0m\u001b[0;34m:\u001b[0m\u001b[0;34m\u001b[0m\u001b[0;34m\u001b[0m\u001b[0m\n\u001b[0;32m--> 120\u001b[0;31m         \u001b[0;32mraise\u001b[0m \u001b[0mValueError\u001b[0m\u001b[0;34m(\u001b[0m\u001b[0;34mf\"Unrecognized data type: x={x} (of type {type(x)})\"\u001b[0m\u001b[0;34m)\u001b[0m\u001b[0;34m\u001b[0m\u001b[0;34m\u001b[0m\u001b[0m\n\u001b[0m\u001b[1;32m    121\u001b[0m \u001b[0;34m\u001b[0m\u001b[0m\n\u001b[1;32m    122\u001b[0m \u001b[0;34m\u001b[0m\u001b[0m\n",
            "\u001b[0;31mValueError\u001b[0m: Unrecognized data type: x=[10] (of type <class 'list'>)"
          ]
        }
      ]
    },
    {
      "cell_type": "code",
      "source": [
        "###심층신경망으로 이미지분류\n",
        "# 케라스는 모델훈련에 필요한 샘플데이터셋을 제공.\n",
        "#케라스의 datasets패키지에 있는 데이터를 불러오기위해 load_data() 메소드를 사용.\n",
        "#mnist 손글씨 데이터셋을 불러옴.\n",
        "import tensorflow as tf\n",
        "\n",
        "# 케라스의 내장 데이터셋에서 mnist데이터셋 로드\n",
        "mnist=tf.keras.datasets.mnist\n",
        "\n",
        "# mnist 변수에 load_data()메소드를 적용하면 google의 storage로부터  넘파이 배열로 구성된 데이터셋을 다운받음.\n",
        "(x_train,y_train),(x_test,y_test)=mnist.load_data()\n",
        "\n",
        "print('train_Set:',x_train.shape, y_train.shape)\n",
        "print('test_Set:' ,x_test.shape, y_test.shape)"
      ],
      "metadata": {
        "colab": {
          "base_uri": "https://localhost:8080/"
        },
        "id": "g3e5k-85EAVt",
        "outputId": "702f864b-13e4-40f4-ebed-5e04e948839d"
      },
      "execution_count": null,
      "outputs": [
        {
          "output_type": "stream",
          "name": "stdout",
          "text": [
            "Downloading data from https://storage.googleapis.com/tensorflow/tf-keras-datasets/mnist.npz\n",
            "\u001b[1m11490434/11490434\u001b[0m \u001b[32m━━━━━━━━━━━━━━━━━━━━\u001b[0m\u001b[37m\u001b[0m \u001b[1m0s\u001b[0m 0us/step\n",
            "train_Set: (60000, 28, 28) (60000,)\n",
            "test_Set: (10000, 28, 28) (10000,)\n"
          ]
        }
      ]
    },
    {
      "cell_type": "code",
      "source": [
        "import matplotlib.pyplot as plt\n",
        "# canvas 생성\n",
        "fig,axes = plt.subplots(3,5)\n",
        "fig.set_size_inches(8,5)\n",
        "\n",
        "for i in range(15):\n",
        "  ax=axes[i//5, i%5]\n",
        "  #imshow로 이미지 시각화\n",
        "  ax.imshow(x_train[i], cmap='gray')\n",
        "  ax.axis('off')\n",
        "  ax.set_title(str(y_train[i]))\n",
        "\n",
        "plt.tight_layout()\n",
        "plt.show()"
      ],
      "metadata": {
        "colab": {
          "base_uri": "https://localhost:8080/",
          "height": 510
        },
        "id": "g0l9HSX5EAYT",
        "outputId": "60bb7d64-3952-4d3a-92c0-b941eee488ff"
      },
      "execution_count": null,
      "outputs": [
        {
          "output_type": "display_data",
          "data": {
            "text/plain": [
              "<Figure size 800x500 with 15 Axes>"
            ],
            "image/png": "[encoded data removed]"
          },
          "metadata": {}
        }
      ]
    },
    {
      "cell_type": "code",
      "source": [
        "# 데이터전처리\n",
        "# x_train배열의 데이터확인\n",
        "x_train[0, 10:15, 10:15]\n",
        "\n",
        "#  x_train 데이터의 최소,최대값 확인\n",
        "print(x_train.min(),x_train.max())\n",
        "\n",
        "# 정규화 : (정규화를 하더라도 범위만 축소되지 베열의 형태는 그대로 유지됨)\n",
        "x_train=x_train/ x_train.max()\n",
        "\n",
        "# 정규화 후 최소최대 출력, 예시값 출력\n",
        "print(x_train.min(),x_train.max())\n",
        "print(x_train[0, 10:15, 10:15]\n",
        ")"
      ],
      "metadata": {
        "colab": {
          "base_uri": "https://localhost:8080/"
        },
        "id": "fU09wbtgEAaw",
        "outputId": "a9eccd2e-b4f5-4f29-d032-48aa6a36c8c6"
      },
      "execution_count": null,
      "outputs": [
        {
          "output_type": "stream",
          "name": "stdout",
          "text": [
            "0 255\n",
            "0.0 1.0\n",
            "[[0.00392157 0.60392157 0.99215686 0.35294118 0.        ]\n",
            " [0.         0.54509804 0.99215686 0.74509804 0.00784314]\n",
            " [0.         0.04313725 0.74509804 0.99215686 0.2745098 ]\n",
            " [0.         0.         0.1372549  0.94509804 0.88235294]\n",
            " [0.         0.         0.         0.31764706 0.94117647]]\n"
          ]
        }
      ]
    },
    {
      "cell_type": "code",
      "source": [
        "# 3-3\n",
        "\n",
        "# flatten layer\n",
        "\n",
        "# 샘플 이미지의 형태는 2차원이다. dense layer에는 2차원을 입력으로 넣을 수 가 없다. 1차원만 가능하다.\n",
        "# 그래서 2차원을 1차원으로 전처리를 진행해주어야한다. 차원축소하는 함수는 reshape을 사용하면된다. 위에서 연습했다.\n",
        "print(\"변경 전 :\", x_train.shape)\n",
        "print(\"변경 후:\", x_train.reshape(60000,-1).shape )"
      ],
      "metadata": {
        "colab": {
          "base_uri": "https://localhost:8080/"
        },
        "id": "t9_k4MAaEAd0",
        "outputId": "d29f52ff-5854-497c-f95b-b661ccb352d5"
      },
      "execution_count": null,
      "outputs": [
        {
          "output_type": "stream",
          "name": "stdout",
          "text": [
            "변경 전 : (60000, 28, 28)\n",
            "변경 후: (60000, 784)\n"
          ]
        }
      ]
    },
    {
      "cell_type": "code",
      "source": [
        "#flatten layer 적용 후 shape 확인 flatten 레이어를 이용해서도 1차원 데이터로 펼쳐주는게 가능함\n",
        "print(\"flatten 적용 후:\" ,tf.keras.layers.Flatten()(x_train).shape)\n",
        "#flatten layer 적용 후 shape 확인 flatten 레이어를 이용해서도 1차원 데이터로 펼쳐주는게 가능함\n",
        "print(\"flatten 적용 후:\" ,tf.keras.layers.Flatten()(x_test).shape)"
      ],
      "metadata": {
        "colab": {
          "base_uri": "https://localhost:8080/"
        },
        "id": "yIhI9yFqEAg0",
        "outputId": "0ed10e5a-3522-46c8-b059-f3953fd98d9b"
      },
      "execution_count": null,
      "outputs": [
        {
          "output_type": "stream",
          "name": "stdout",
          "text": [
            "flatten 적용 후: (60000, 784)\n",
            "flatten 적용 후: (10000, 784)\n"
          ]
        }
      ]
    },
    {
      "cell_type": "code",
      "source": [
        "# 3-4\n",
        "\n",
        "#활성화함수\n",
        "\n",
        "# 텐서플로 케라스 레이어에 활성화함수를 적용\n",
        "tf.keras.layers.Dense(128,activation='relu')\n",
        "\n",
        "#dense 레이어와 relu 활성화함수레이어를 별도 적용한 경우\n",
        "model=tf.keras.Sequential([\n",
        "      tf.keras.layers.Dense(128),\n",
        "      tf.keras.layers.Activation('relu')\n",
        "                           ])"
      ],
      "metadata": {
        "id": "b5UJQf73BlP9"
      },
      "execution_count": null,
      "outputs": []
    },
    {
      "cell_type": "code",
      "source": [
        "# 3-5\n",
        "\n",
        "# 입력과 출력\n",
        "model = tf.keras.Sequential([\n",
        "        tf.keras.layers.Dense(128,input_shape=(28,28)), # input_shape를 데이터셋의 크기와 맞춤\n",
        "        tf.keras.layers.Dense(64,activation='relu'),\n",
        "        tf.keras.layers.Dense(32,activation='relu'),\n",
        "        tf.keras.layers.Dense(16,activation='relu'),\n",
        "        tf.keras.layers.Dense(10,activation='softmax'),  #mnist는 총 10개의 클래스로 이루어져있어서 출력층의 노드개수는 10(10개의 종류)\n",
        "        # 출력층 노드가 1이면 sigmoid, 2개이상이면 softmax 이용\n",
        "                             ])\n"
      ],
      "metadata": {
        "colab": {
          "base_uri": "https://localhost:8080/"
        },
        "id": "6yPdW924utGN",
        "outputId": "4d15dec4-33f4-4c67-88e3-53224ce72283"
      },
      "execution_count": null,
      "outputs": [
        {
          "output_type": "stream",
          "name": "stderr",
          "text": [
            "/usr/local/lib/python3.10/dist-packages/keras/src/layers/core/dense.py:87: UserWarning: Do not pass an `input_shape`/`input_dim` argument to a layer. When using Sequential models, prefer using an `Input(shape)` object as the first layer in the model instead.\n",
            "  super().__init__(activity_regularizer=activity_regularizer, **kwargs)\n"
          ]
        }
      ]
    },
    {
      "cell_type": "code",
      "source": [
        "# 3-6\n",
        "\n",
        "#손실함수\n",
        "#이진분류(출력노드개수=1이면 활성화함수는 sigmoid, 손실함수는 binary_crossentropy 사용)\n",
        "model.compile(loss='binary_crossentropy')\n",
        "\n",
        "# 출력층의 노드개수가 2이상이고 , 출력데이터가 원핫벡터일떄는\n",
        "model.compile(loss='categorical_crossentropy')\n",
        "\n",
        "# 출력층의 노드개수가 2이상이고 , 출력데이터가 원핫벡터가 아닐떄는\n",
        "model.compile(loss='sparse_categorical_crossentropy') # mnist는 출력데이터가 원핫벡터가 아니고 0~9까지 레이블 값을 가짐.\n",
        "\n",
        "\n"
      ],
      "metadata": {
        "id": "tyqxIsBjutKh"
      },
      "execution_count": null,
      "outputs": []
    },
    {
      "cell_type": "code",
      "source": [
        "# 3-7\n",
        "# optimizer는 손실을 낮추기위해서, 신경망의 가중치,학습률같은 신경망의 속성을 변경하는데 사용되는 최적화 방법\n",
        "# 대표적으로 adam을 많이 사용. SGD,Nadam,Adagrad,RMSprop 등이 있음.\n",
        "\n",
        "#클래스인스턴스로 지정\n",
        "adam= tf.keras.optimizers.Adam(learning_rate=0.001)\n",
        "model.compile(optimizer=adam)\n",
        "# 문자열로 지정\n",
        "model.compile(optimizer='adam')"
      ],
      "metadata": {
        "id": "gUwAdCAyutQb"
      },
      "execution_count": null,
      "outputs": []
    },
    {
      "cell_type": "code",
      "source": [
        "# 3-8\n",
        "# 평가지표\n",
        "# 보통 accuracy, auc, precision, recall 등이 사용됨.\n",
        "\n",
        "# 클래스 인스턴스로 지정\n",
        "acc =tf.keras.metrics.SparseCategoricalAccuracy()\n",
        "model.compile(optimizer='adam',\n",
        "              loss= 'sparse_categorical_crossentropy',\n",
        "              metrics=[acc])\n",
        "\n",
        "# 문자열로 지정\n",
        "model.compile(optimizer='adam',\n",
        "              loss= 'sparse_categorical_crossentropy',\n",
        "              metrics=['accuracy'])\n"
      ],
      "metadata": {
        "id": "zH_TeScFutW-"
      },
      "execution_count": null,
      "outputs": []
    },
    {
      "cell_type": "code",
      "source": [
        "# 3-9\n",
        "# 훈련\n",
        "model.fit(x_train,y_train,\n",
        "          #검증 셋 지정\n",
        "          validation_data=(x_test,y_test),\n",
        "          epochs=10,\n",
        "          )\n",
        "\n",
        "# 3-10\n",
        "# 평가\n",
        "test_loss, test_acc = model.evaulate(x_test,y_test)\n",
        "print('검증정확도:',test_acc)\n",
        "\n",
        "# 3-11\n",
        "# 예측\n",
        "predicitons = model.predict(x_test)"
      ],
      "metadata": {
        "colab": {
          "base_uri": "https://localhost:8080/",
          "height": 388
        },
        "id": "XHN5xlU3ute5",
        "outputId": "1f29bd1b-2a72-45d4-a57a-34d8d649b3ca"
      },
      "execution_count": null,
      "outputs": [
        {
          "output_type": "stream",
          "name": "stdout",
          "text": [
            "Epoch 1/10\n"
          ]
        },
        {
          "output_type": "error",
          "ename": "ValueError",
          "evalue": "Argument `output` must have rank (ndim) `target.ndim - 1`. Received: target.shape=(32,), output.shape=(32, 28, 10)",
          "traceback": [
            "\u001b[0;31m---------------------------------------------------------------------------\u001b[0m",
            "\u001b[0;31mValueError\u001b[0m                                Traceback (most recent call last)",
            "\u001b[0;32m<ipython-input-24-e6a60a525984>\u001b[0m in \u001b[0;36m<cell line: 3>\u001b[0;34m()\u001b[0m\n\u001b[1;32m      1\u001b[0m \u001b[0;31m# 3-9\u001b[0m\u001b[0;34m\u001b[0m\u001b[0;34m\u001b[0m\u001b[0m\n\u001b[1;32m      2\u001b[0m \u001b[0;31m# 훈련\u001b[0m\u001b[0;34m\u001b[0m\u001b[0;34m\u001b[0m\u001b[0m\n\u001b[0;32m----> 3\u001b[0;31m model.fit(x_train,y_train,\n\u001b[0m\u001b[1;32m      4\u001b[0m           \u001b[0;31m#검증 셋 지정\u001b[0m\u001b[0;34m\u001b[0m\u001b[0;34m\u001b[0m\u001b[0m\n\u001b[1;32m      5\u001b[0m           \u001b[0mvalidation_data\u001b[0m\u001b[0;34m=\u001b[0m\u001b[0;34m(\u001b[0m\u001b[0mx_test\u001b[0m\u001b[0;34m,\u001b[0m\u001b[0my_test\u001b[0m\u001b[0;34m)\u001b[0m\u001b[0;34m,\u001b[0m\u001b[0;34m\u001b[0m\u001b[0;34m\u001b[0m\u001b[0m\n",
            "\u001b[0;32m/usr/local/lib/python3.10/dist-packages/keras/src/utils/traceback_utils.py\u001b[0m in \u001b[0;36merror_handler\u001b[0;34m(*args, **kwargs)\u001b[0m\n\u001b[1;32m    120\u001b[0m             \u001b[0;31m# To get the full stack trace, call:\u001b[0m\u001b[0;34m\u001b[0m\u001b[0;34m\u001b[0m\u001b[0m\n\u001b[1;32m    121\u001b[0m             \u001b[0;31m# `keras.config.disable_traceback_filtering()`\u001b[0m\u001b[0;34m\u001b[0m\u001b[0;34m\u001b[0m\u001b[0m\n\u001b[0;32m--> 122\u001b[0;31m             \u001b[0;32mraise\u001b[0m \u001b[0me\u001b[0m\u001b[0;34m.\u001b[0m\u001b[0mwith_traceback\u001b[0m\u001b[0;34m(\u001b[0m\u001b[0mfiltered_tb\u001b[0m\u001b[0;34m)\u001b[0m \u001b[0;32mfrom\u001b[0m \u001b[0;32mNone\u001b[0m\u001b[0;34m\u001b[0m\u001b[0;34m\u001b[0m\u001b[0m\n\u001b[0m\u001b[1;32m    123\u001b[0m         \u001b[0;32mfinally\u001b[0m\u001b[0;34m:\u001b[0m\u001b[0;34m\u001b[0m\u001b[0;34m\u001b[0m\u001b[0m\n\u001b[1;32m    124\u001b[0m             \u001b[0;32mdel\u001b[0m \u001b[0mfiltered_tb\u001b[0m\u001b[0;34m\u001b[0m\u001b[0;34m\u001b[0m\u001b[0m\n",
            "\u001b[0;32m/usr/local/lib/python3.10/dist-packages/keras/src/backend/tensorflow/nn.py\u001b[0m in \u001b[0;36msparse_categorical_crossentropy\u001b[0;34m(target, output, from_logits, axis)\u001b[0m\n\u001b[1;32m    650\u001b[0m         )\n\u001b[1;32m    651\u001b[0m     \u001b[0;32mif\u001b[0m \u001b[0mlen\u001b[0m\u001b[0;34m(\u001b[0m\u001b[0mtarget\u001b[0m\u001b[0;34m.\u001b[0m\u001b[0mshape\u001b[0m\u001b[0;34m)\u001b[0m \u001b[0;34m!=\u001b[0m \u001b[0mlen\u001b[0m\u001b[0;34m(\u001b[0m\u001b[0moutput\u001b[0m\u001b[0;34m.\u001b[0m\u001b[0mshape\u001b[0m\u001b[0;34m[\u001b[0m\u001b[0;34m:\u001b[0m\u001b[0;34m-\u001b[0m\u001b[0;36m1\u001b[0m\u001b[0;34m]\u001b[0m\u001b[0;34m)\u001b[0m\u001b[0;34m:\u001b[0m\u001b[0;34m\u001b[0m\u001b[0;34m\u001b[0m\u001b[0m\n\u001b[0;32m--> 652\u001b[0;31m         raise ValueError(\n\u001b[0m\u001b[1;32m    653\u001b[0m             \u001b[0;34m\"Argument `output` must have rank (ndim) `target.ndim - 1`. \"\u001b[0m\u001b[0;34m\u001b[0m\u001b[0;34m\u001b[0m\u001b[0m\n\u001b[1;32m    654\u001b[0m             \u001b[0;34m\"Received: \"\u001b[0m\u001b[0;34m\u001b[0m\u001b[0;34m\u001b[0m\u001b[0m\n",
            "\u001b[0;31mValueError\u001b[0m: Argument `output` must have rank (ndim) `target.ndim - 1`. Received: target.shape=(32,), output.shape=(32, 28, 10)"
          ]
        }
      ]
    },
    {
      "cell_type": "code",
      "source": [
        "# 데이터시각화\n",
        "import matplotlib.pyplot as plt\n",
        "\n",
        "def get_one_result(idx):\n",
        "  img,y_true,y_pred, confidence= x_test[idx], y_test[idx],np.argmax(predictions[idx]  # 배열에서 최대값의 인덱스를 추출\n",
        "                                                  100*np.max(predictions[idx]))     # 배열에서 최대값을 추출\n",
        "  return img,y_true,y_pred,confidence\n",
        "\n",
        "fig,axes = subplots(3,5)\n",
        "fig.set_size_inches(12,10)\n",
        "\n",
        "for i in range(15):\n",
        "  ax=axes[i//5, i%5]\n",
        "  img,y_true,y_pred,confidence=get_one_result(i)\n",
        "  # imshow로 시각화\n",
        "  ax.imshow(img,cmap='gray')\n",
        "  ax.set_xtickets([]) # 그래프의 x 축눈금을 제거\n",
        "  ax.set_ytickets([]) # 그래프의 y축 눈금을 제거\n",
        "  ax.set_title('True:', y_true)\n",
        "  ax.set_xlabel('Pred:'{y_pred}, 'confidence:',{confidence:.2f}\n",
        "\n",
        "plt.tight_layout()\n",
        "plt.show()"
      ],
      "metadata": {
        "id": "jr1sDVe57DYW"
      },
      "execution_count": null,
      "outputs": []
    }
  ]
}